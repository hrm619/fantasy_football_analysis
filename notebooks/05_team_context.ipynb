{
 "cells": [
  {
   "cell_type": "markdown",
   "metadata": {},
   "source": [
    "# 05 team context Notebook\n",
    "\n",
    "This notebook implements the analysis for the 05 team context stage of the Fantasy Football Analysis project."
   ]
  },
  {
   "cell_type": "code",
   "execution_count": null,
   "metadata": {},
   "outputs": [],
   "source": [
    "# Import necessary libraries\n",
    "import pandas as pd\n",
    "import numpy as np\n",
    "import matplotlib.pyplot as plt\n",
    "import seaborn as sns\n",
    "import sys\n",
    "import os\n",
    "\n",
    "# Add the src directory to path\n",
    "sys.path.append('..')\n",
    "\n",
    "# Set display options\n",
    "pd.set_option('display.max_columns', 50)\n",
    "pd.set_option('display.width', 1000)"
   ]
  },
  {
   "cell_type": "code",
   "execution_count": null,
   "metadata": {},
   "outputs": [],
   "source": [
    "# TODO: Implement 05 team context analysis"
   ]
  },
  {
   "cell_type": "code",
   "execution_count": null,
   "metadata": {},
   "outputs": [],
   "source": [
    "# Import project modules\n",
    "from src.data.data_loader import load_config, load_all_data\n",
    "from src.data.data_processor import load_csv_data\n",
    "from src.analysis.team_context import (\n",
    "    analyze_team_performance_correlation,\n",
    "    analyze_opportunity_share,\n",
    "    analyze_offensive_line_impact\n",
    ")\n",
    "from src.visualization.team_context_vis import (\n",
    "    plot_team_correlations,\n",
    "    plot_opportunity_quadrants,\n",
    "    plot_offensive_line_impact\n",
    ")\n",
    "from src.utils.validation import validate_analysis_output\n",
    "\n",
    "# Set pandas display options\n",
    "pd.set_option('display.max_columns', 50)\n",
    "pd.set_option('display.width', 1000)"
   ]
  },
  {
   "cell_type": "code",
   "execution_count": null,
   "metadata": {},
   "outputs": [],
   "source": [
    "# 1. Load configuration and processed data\n",
    "config = load_config()\n",
    "player_df = load_csv_data(os.path.join(config['data_paths']['processed_data'], 'vorp_analysis.csv'))\n",
    "\n",
    "# Load team data\n",
    "data_dict = load_all_data(config)\n",
    "team_df = data_dict['team_stats']\n",
    "line_df = data_dict['line_data']"
   ]
  },
  {
   "cell_type": "code",
   "execution_count": null,
   "metadata": {},
   "outputs": [],
   "source": [
    "# 2. Analyze team performance correlation\n",
    "team_results = analyze_team_performance_correlation(player_df, team_df)\n",
    "\n",
    "# Display correlation results\n",
    "if 'position_team_correlations' in team_results:\n",
    "    print(\"Team-Player Performance Correlations:\")\n",
    "    display(team_results['position_team_correlations'].sort_values('Correlation', ascending=False))\n",
    "\n",
    "if 'team_tier_performance' in team_results:\n",
    "    print(\"\\nPlayer Performance by Team Tiers:\")\n",
    "    display(team_results['team_tier_performance'])"
   ]
  },
  {
   "cell_type": "code",
   "execution_count": null,
   "metadata": {},
   "outputs": [],
   "source": [
    "# 3. Analyze opportunity share\n",
    "opportunity_df = analyze_opportunity_share(player_df, team_df)\n",
    "\n",
    "# Display opportunity share analysis\n",
    "print(\"\\nOpportunity Share Analysis:\")\n",
    "share_cols = [col for col in opportunity_df.columns if 'Share' in col] + ['Points_Per_Opportunity', 'Efficiency_Quadrant']\n",
    "display(opportunity_df[['Player', 'FantPos', 'Team_std', 'Half_PPR'] + share_cols].head(20))\n",
    "\n",
    "# Group by efficiency quadrant\n",
    "if 'Efficiency_Quadrant' in opportunity_df.columns:\n",
    "    print(\"\\nPerformance by Efficiency Quadrant:\")\n",
    "    quad_stats = opportunity_df.groupby(['FantPos', 'Efficiency_Quadrant']).agg({\n",
    "        'Half_PPR': ['mean', 'count'],\n",
    "        'Points_Per_Opportunity': 'mean'\n",
    "    }).reset_index()\n",
    "    quad_stats.columns = ['_'.join(col).strip('_') if isinstance(col, tuple) else col for col in quad_stats.columns]\n",
    "    display(quad_stats)\n",
    "    \n",
    "    # Show top players in each quadrant\n",
    "    print(\"\\nTop High Volume, High Efficiency Players:\")\n",
    "    high_vol_high_eff = opportunity_df[opportunity_df['Efficiency_Quadrant'] == 'High Vol, High Eff']\n",
    "    display(high_vol_high_eff.sort_values('Half_PPR', ascending=False)[\n",
    "        ['Player', 'FantPos', 'Team_std', 'Half_PPR', 'Points_Per_Opportunity']\n",
    "    ].head(10))\n",
    "    \n",
    "    print(\"\\nTop Low Volume, High Efficiency Players (Potential Breakouts):\")\n",
    "    low_vol_high_eff = opportunity_df[opportunity_df['Efficiency_Quadrant'] == 'Low Vol, High Eff']\n",
    "    display(low_vol_high_eff.sort_values('Points_Per_Opportunity', ascending=False)[\n",
    "        ['Player', 'FantPos', 'Team_std', 'Half_PPR', 'Points_Per_Opportunity']\n",
    "    ].head(10))\n"
   ]
  },
  {
   "cell_type": "code",
   "execution_count": null,
   "metadata": {},
   "outputs": [],
   "source": [
    "# 4. Analyze offensive line impact\n",
    "line_results = analyze_offensive_line_impact(player_df, line_df)\n",
    "\n",
    "# Display offensive line impact results\n",
    "for key, df in line_results.items():\n",
    "    print(f\"\\n{key.replace('_', ' ').title()}:\")\n",
    "    display(df)\n"
   ]
  },
  {
   "cell_type": "code",
   "execution_count": null,
   "metadata": {},
   "outputs": [],
   "source": [
    "# 5. Create visualizations\n",
    "# Team correlations\n",
    "if 'position_team_correlations' in team_results:\n",
    "    plt.figure(figsize=(12, 8))\n",
    "    plot_team_correlations(team_results['position_team_correlations'])\n",
    "    plt.tight_layout()\n",
    "    plt.savefig('../outputs/figures/team_correlations.png')\n",
    "    plt.show()\n",
    "\n",
    "# Opportunity quadrants\n",
    "plt.figure(figsize=(14, 12))\n",
    "plot_opportunity_quadrants(opportunity_df)\n",
    "plt.tight_layout()\n",
    "plt.savefig('../outputs/figures/opportunity_quadrants.png')\n",
    "plt.show()\n",
    "\n",
    "# Offensive line impact\n",
    "if len(line_results) > 0:\n",
    "    plt.figure(figsize=(12, 8))\n",
    "    plot_offensive_line_impact(line_results)\n",
    "    plt.tight_layout()\n",
    "    plt.savefig('../outputs/figures/offensive_line_impact.png')\n",
    "    plt.show()"
   ]
  },
  {
   "cell_type": "code",
   "execution_count": null,
   "metadata": {},
   "outputs": [],
   "source": [
    "# 6. Save processed data\n",
    "for key, df in team_results.items():\n",
    "    df.to_csv(os.path.join(config['data_paths']['processed_data'], f\"{key}.csv\"), index=False)\n",
    "\n",
    "opportunity_df.to_csv(os.path.join(config['data_paths']['processed_data'], 'opportunity_share.csv'), index=False)\n",
    "\n",
    "for key, df in line_results.items():\n",
    "    df.to_csv(os.path.join(config['data_paths']['processed_data'], f\"{key}.csv\"), index=False)\n",
    "\n",
    "print(\"Team context analysis completed!\")"
   ]
  }
 ],
 "metadata": {
  "kernelspec": {
   "display_name": "Python 3",
   "language": "python",
   "name": "python3"
  },
  "language_info": {
   "codemirror_mode": {
    "name": "ipython",
    "version": 3
   },
   "file_extension": ".py",
   "mimetype": "text/x-python",
   "name": "python",
   "nbconvert_exporter": "python",
   "pygments_lexer": "ipython3",
   "version": "3.9.0"
  }
 },
 "nbformat": 4,
 "nbformat_minor": 4
}

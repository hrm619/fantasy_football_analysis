{
 "cells": [
  {
   "cell_type": "markdown",
   "metadata": {},
   "source": [
    "# 04 tiering archetypes Notebook\n",
    "\n",
    "This notebook implements the analysis for the 04 tiering archetypes stage of the Fantasy Football Analysis project."
   ]
  },
  {
   "cell_type": "code",
   "execution_count": null,
   "metadata": {},
   "outputs": [],
   "source": [
    "# Import necessary libraries\n",
    "import pandas as pd\n",
    "import numpy as np\n",
    "import matplotlib.pyplot as plt\n",
    "import seaborn as sns\n",
    "import sys\n",
    "import os\n",
    "\n",
    "# Add the src directory to path\n",
    "sys.path.append('..')\n",
    "\n",
    "# Set display options\n",
    "pd.set_option('display.max_columns', 50)\n",
    "pd.set_option('display.width', 1000)"
   ]
  },
  {
   "cell_type": "code",
   "execution_count": null,
   "metadata": {},
   "outputs": [],
   "source": [
    "# TODO: Implement 04 tiering archetypes analysis"
   ]
  },
  {
   "cell_type": "code",
   "execution_count": null,
   "metadata": {},
   "outputs": [],
   "source": [
    "# Import project modules\n",
    "from src.data.data_loader import load_config, load_all_data\n",
    "from src.data.data_processor import load_csv_data\n",
    "from src.analysis.tiering import (\n",
    "    identify_player_tiers,\n",
    "    identify_player_archetypes,\n",
    "    analyze_tiers_vs_expectations\n",
    ")\n",
    "from src.visualization.tiering_vis import (\n",
    "    plot_player_tiers,\n",
    "    plot_player_archetypes,\n",
    "    plot_tier_expectations\n",
    ")\n",
    "from src.utils.validation import validate_analysis_output\n",
    "\n",
    "# Set pandas display options\n",
    "pd.set_option('display.max_columns', 50)\n",
    "pd.set_option('display.width', 1000)"
   ]
  },
  {
   "cell_type": "code",
   "execution_count": null,
   "metadata": {},
   "outputs": [],
   "source": [
    "# 1. Load configuration and processed data\n",
    "config = load_config()\n",
    "vorp_df = load_csv_data(os.path.join(config['data_paths']['processed_data'], 'vorp_analysis.csv'))\n"
   ]
  },
  {
   "cell_type": "code",
   "execution_count": null,
   "metadata": {},
   "outputs": [],
   "source": [
    "# 2. Identify performance tiers\n",
    "tier_results = identify_player_tiers(vorp_df)\n",
    "\n",
    "# Display tier stats for each position\n",
    "positions = ['QB', 'RB', 'WR', 'TE']\n",
    "for pos in positions:\n",
    "    tier_stats_key = f\"{pos}_tier_stats\"\n",
    "    if tier_stats_key in tier_results:\n",
    "        print(f\"\\n{pos} Performance Tiers:\")\n",
    "        display(tier_results[tier_stats_key])"
   ]
  },
  {
   "cell_type": "code",
   "execution_count": null,
   "metadata": {},
   "outputs": [],
   "source": [
    "# 3. Identify player archetypes\n",
    "# Define features for each position\n",
    "position_features = {\n",
    "    'QB': ['Pass_Points_Share', 'Rush_Points_Share', 'Pass_Yards_Per_Att', 'TD_Rate', 'Int_Rate'],\n",
    "    'RB': ['Rush_Points_Share', 'Recv_Points_Share', 'Rush_Yards_Per_Att', 'Catch_Rate'],\n",
    "    'WR': ['Yards_Per_Reception', 'Catch_Rate', 'TD_Rate', 'YPRR', 'aDOT'],\n",
    "    'TE': ['Yards_Per_Reception', 'Catch_Rate', 'TD_Rate', 'YPRR', 'Route_Rate', 'Inline_Rate']\n",
    "}\n",
    "\n",
    "archetype_results = identify_player_archetypes(vorp_df, position_features)\n",
    "\n",
    "# Display archetype stats for each position\n",
    "for pos in positions:\n",
    "    archetype_stats_key = f\"{pos}_archetype_stats\"\n",
    "    feature_key = f\"{pos}_archetype_features\"\n",
    "    \n",
    "    if archetype_stats_key in archetype_results:\n",
    "        print(f\"\\n{pos} Archetypes:\")\n",
    "        display(archetype_results[archetype_stats_key])\n",
    "        \n",
    "        if feature_key in archetype_results:\n",
    "            print(f\"\\n{pos} Archetype Feature Means:\")\n",
    "            display(archetype_results[feature_key])\n"
   ]
  },
  {
   "cell_type": "code",
   "execution_count": null,
   "metadata": {},
   "outputs": [],
   "source": [
    "# 4. Analyze tiers vs expectations\n",
    "tier_expectations = analyze_tiers_vs_expectations(tier_results, vorp_df)\n",
    "\n",
    "# Display tier expectations analysis\n",
    "for pos in positions:\n",
    "    expectations_key = f\"{pos}_tier_expectations\"\n",
    "    if expectations_key in tier_expectations:\n",
    "        print(f\"\\n{pos} Tier Expectations Analysis:\")\n",
    "        display(tier_expectations[expectations_key])"
   ]
  },
  {
   "cell_type": "code",
   "execution_count": null,
   "metadata": {},
   "outputs": [],
   "source": [
    "# 5. Create visualizations\n",
    "# Plot player tiers\n",
    "for pos in positions:\n",
    "    tier_key = f\"{pos}_tiers\"\n",
    "    if tier_key in tier_results:\n",
    "        plt.figure(figsize=(12, 8))\n",
    "        plot_player_tiers(tier_results[tier_key], pos)\n",
    "        plt.tight_layout()\n",
    "        plt.savefig(f'../outputs/figures/{pos}_tiers.png')\n",
    "        plt.show()\n",
    "\n",
    "# Plot player archetypes\n",
    "for pos in positions:\n",
    "    archetype_key = f\"{pos}_archetypes\"\n",
    "    if archetype_key in archetype_results:\n",
    "        plt.figure(figsize=(12, 8))\n",
    "        plot_player_archetypes(archetype_results[archetype_key], pos, position_features[pos])\n",
    "        plt.tight_layout()\n",
    "        plt.savefig(f'../outputs/figures/{pos}_archetypes.png')\n",
    "        plt.show()\n",
    "\n",
    "# Plot tier expectations\n",
    "if 'all_tier_expectations' in tier_expectations:\n",
    "    plt.figure(figsize=(14, 10))\n",
    "    plot_tier_expectations(tier_expectations['all_tier_expectations'])\n",
    "    plt.tight_layout()\n",
    "    plt.savefig('../outputs/figures/tier_expectations.png')\n",
    "    plt.show()"
   ]
  },
  {
   "cell_type": "code",
   "execution_count": null,
   "metadata": {},
   "outputs": [],
   "source": [
    "# 6. Save processed data\n",
    "for key, df in tier_results.items():\n",
    "    df.to_csv(os.path.join(config['data_paths']['processed_data'], f\"{key}.csv\"), index=False)\n",
    "\n",
    "for key, df in archetype_results.items():\n",
    "    df.to_csv(os.path.join(config['data_paths']['processed_data'], f\"{key}.csv\"), index=False)\n",
    "\n",
    "for key, df in tier_expectations.items():\n",
    "    df.to_csv(os.path.join(config['data_paths']['processed_data'], f\"{key}.csv\"), index=False)\n",
    "\n",
    "print(\"Tiering and archetype analysis completed!\")"
   ]
  }
 ],
 "metadata": {
  "kernelspec": {
   "display_name": "Python 3",
   "language": "python",
   "name": "python3"
  },
  "language_info": {
   "codemirror_mode": {
    "name": "ipython",
    "version": 3
   },
   "file_extension": ".py",
   "mimetype": "text/x-python",
   "name": "python",
   "nbconvert_exporter": "python",
   "pygments_lexer": "ipython3",
   "version": "3.9.0"
  }
 },
 "nbformat": 4,
 "nbformat_minor": 4
}

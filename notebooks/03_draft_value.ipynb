{
 "cells": [
  {
   "cell_type": "markdown",
   "metadata": {},
   "source": [
    "# 03 draft value Notebook\n",
    "\n",
    "This notebook implements the analysis for the 03 draft value stage of the Fantasy Football Analysis project."
   ]
  },
  {
   "cell_type": "code",
   "execution_count": null,
   "metadata": {},
   "outputs": [],
   "source": [
    "# Import necessary libraries\n",
    "import pandas as pd\n",
    "import numpy as np\n",
    "import matplotlib.pyplot as plt\n",
    "import seaborn as sns\n",
    "import sys\n",
    "import os\n",
    "\n",
    "# Add the src directory to path\n",
    "sys.path.append('..')\n",
    "\n",
    "# Set display options\n",
    "pd.set_option('display.max_columns', 50)\n",
    "pd.set_option('display.width', 1000)"
   ]
  },
  {
   "cell_type": "code",
   "execution_count": null,
   "metadata": {},
   "outputs": [],
   "source": [
    "# TODO: Implement 03 draft value analysis"
   ]
  },
  {
   "cell_type": "code",
   "execution_count": null,
   "metadata": {},
   "outputs": [],
   "source": [
    "# Import project modules\n",
    "from src.data.data_loader import load_config, load_all_data\n",
    "from src.data.data_processor import load_csv_data\n",
    "from src.analysis.draft_value import (\n",
    "    analyze_adp_vs_performance,\n",
    "    calculate_vbd_rankings\n",
    ")\n",
    "from src.visualization.draft_vis import (\n",
    "    plot_round_performance,\n",
    "    plot_position_value_by_round,\n",
    "    plot_vbd_rankings\n",
    ")\n",
    "from src.utils.validation import validate_analysis_output\n",
    "\n",
    "# Set pandas display options\n",
    "pd.set_option('display.max_columns', 50)\n",
    "pd.set_option('display.width', 1000)"
   ]
  },
  {
   "cell_type": "code",
   "execution_count": null,
   "metadata": {},
   "outputs": [],
   "source": [
    "# 1. Load configuration and processed data\n",
    "config = load_config()\n",
    "performance_df = load_csv_data(os.path.join(config['data_paths']['processed_data'], 'player_performance.csv'))\n",
    "vorp_df = load_csv_data(os.path.join(config['data_paths']['processed_data'], 'vorp_analysis.csv'))"
   ]
  },
  {
   "cell_type": "code",
   "execution_count": null,
   "metadata": {},
   "outputs": [],
   "source": [
    "# 2. Analyze ADP vs. performance\n",
    "adp_results = analyze_adp_vs_performance(performance_df, config['league']['teams'])\n",
    "\n",
    "# Display round stats\n",
    "print(\"Draft Round Performance Stats:\")\n",
    "display(adp_results['round_stats'])\n",
    "\n",
    "# Display position-specific round stats\n",
    "print(\"\\nPosition-Specific Round Stats:\")\n",
    "display(adp_results['position_round_stats'].pivot_table(\n",
    "    index='Draft_Round', \n",
    "    columns='Position', \n",
    "    values=['Avg_Points', 'Success_Rate', 'Bust_Rate']\n",
    ").round(1))\n",
    "\n",
    "# Display optimal positions by round\n",
    "print(\"\\nOptimal Positions by Round:\")\n",
    "display(adp_results['optimal_positions_by_round'])"
   ]
  },
  {
   "cell_type": "code",
   "execution_count": null,
   "metadata": {},
   "outputs": [],
   "source": [
    "# 3. Calculate VBD rankings\n",
    "vbd_df = calculate_vbd_rankings(vorp_df, config['analysis']['baseline_values'])\n",
    "\n",
    "# Display top players by VBD\n",
    "print(\"\\nTop 20 Players by VBD:\")\n",
    "display(vbd_df.sort_values('VBD', ascending=False)[\n",
    "    ['Player', 'FantPos', 'Team', 'Half_PPR', 'VBD', 'VBD_Rank', 'ADP']\n",
    "].head(20))\n",
    "\n",
    "# Display VBD by round and position if available\n",
    "if 'vbd_by_round' in vbd_df.attrs:\n",
    "    print(\"\\nVBD by Round and Position:\")\n",
    "    vbd_by_round = vbd_df.attrs['vbd_by_round']\n",
    "    display(vbd_by_round.pivot_table(\n",
    "        index='Draft_Round', \n",
    "        columns='Position', \n",
    "        values='Avg_VBD'\n",
    "    ).round(1))"
   ]
  },
  {
   "cell_type": "code",
   "execution_count": null,
   "metadata": {},
   "outputs": [],
   "source": [
    "# 4. Create visualizations\n",
    "# Round performance\n",
    "plt.figure(figsize=(12, 8))\n",
    "plot_round_performance(adp_results['round_stats'])\n",
    "plt.tight_layout()\n",
    "plt.savefig('../outputs/figures/round_performance.png')\n",
    "plt.show()\n",
    "\n",
    "# Position value by round\n",
    "plt.figure(figsize=(14, 10))\n",
    "plot_position_value_by_round(adp_results['position_round_stats'])\n",
    "plt.tight_layout()\n",
    "plt.savefig('../outputs/figures/position_value_by_round.png')\n",
    "plt.show()\n",
    "\n",
    "# VBD rankings\n",
    "plt.figure(figsize=(12, 8))\n",
    "plot_vbd_rankings(vbd_df)\n",
    "plt.tight_layout()\n",
    "plt.savefig('../outputs/figures/vbd_rankings.png')\n",
    "plt.show()"
   ]
  },
  {
   "cell_type": "code",
   "execution_count": null,
   "metadata": {},
   "outputs": [],
   "source": [
    "# 5. Save processed data\n",
    "vbd_df.to_csv(os.path.join(config['data_paths']['processed_data'], 'vbd_rankings.csv'), index=False)"
   ]
  },
  {
   "cell_type": "code",
   "execution_count": null,
   "metadata": {},
   "outputs": [],
   "source": [
    "# Save ADP analysis results\n",
    "for key, df in adp_results.items():\n",
    "    df.to_csv(os.path.join(config['data_paths']['processed_data'], f\"{key}.csv\"), index=False)\n",
    "\n",
    "print(\"Draft value analysis completed!\")"
   ]
  },
  {
   "cell_type": "code",
   "execution_count": null,
   "metadata": {},
   "outputs": [],
   "source": []
  },
  {
   "cell_type": "code",
   "execution_count": null,
   "metadata": {},
   "outputs": [],
   "source": []
  }
 ],
 "metadata": {
  "kernelspec": {
   "display_name": "Python 3",
   "language": "python",
   "name": "python3"
  },
  "language_info": {
   "codemirror_mode": {
    "name": "ipython",
    "version": 3
   },
   "file_extension": ".py",
   "mimetype": "text/x-python",
   "name": "python",
   "nbconvert_exporter": "python",
   "pygments_lexer": "ipython3",
   "version": "3.9.0"
  }
 },
 "nbformat": 4,
 "nbformat_minor": 4
}

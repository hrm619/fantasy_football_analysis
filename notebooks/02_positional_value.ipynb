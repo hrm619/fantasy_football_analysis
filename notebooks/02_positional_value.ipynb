{
 "cells": [
  {
   "cell_type": "markdown",
   "metadata": {},
   "source": [
    "# 02 positional value Notebook\n",
    "\n",
    "This notebook implements the analysis for the 02 positional value stage of the Fantasy Football Analysis project."
   ]
  },
  {
   "cell_type": "code",
   "execution_count": null,
   "metadata": {},
   "outputs": [],
   "source": [
    "# Import necessary libraries\n",
    "import pandas as pd\n",
    "import numpy as np\n",
    "import matplotlib.pyplot as plt\n",
    "import seaborn as sns\n",
    "import sys\n",
    "import os\n",
    "\n",
    "# Add the src directory to path\n",
    "sys.path.append('..')\n",
    "\n",
    "# Set display options\n",
    "pd.set_option('display.max_columns', 50)\n",
    "pd.set_option('display.width', 1000)"
   ]
  },
  {
   "cell_type": "code",
   "execution_count": null,
   "metadata": {},
   "outputs": [],
   "source": [
    "# TODO: Implement 02 positional value analysis"
   ]
  },
  {
   "cell_type": "code",
   "execution_count": null,
   "metadata": {},
   "outputs": [],
   "source": [
    "# Import project modules\n",
    "from src.data.data_loader import load_config, load_all_data\n",
    "from src.data.data_processor import load_csv_data\n",
    "from src.analysis.position_value import (\n",
    "    calculate_vorp,\n",
    "    analyze_positional_scarcity,\n",
    "    analyze_position_groups\n",
    ")\n",
    "from src.visualization.position_vis import (\n",
    "    plot_vorp_by_position,\n",
    "    plot_positional_scarcity,\n",
    "    plot_position_group_comparison\n",
    ")\n",
    "from src.utils.validation import validate_analysis_output\n",
    "\n",
    "# Set pandas display options\n",
    "pd.set_option('display.max_columns', 50)\n",
    "pd.set_option('display.width', 1000)"
   ]
  },
  {
   "cell_type": "code",
   "execution_count": null,
   "metadata": {},
   "outputs": [],
   "source": [
    "# 1. Load configuration and processed data\n",
    "config = load_config()\n",
    "performance_df = load_csv_data(os.path.join(config['data_paths']['processed_data'], 'player_performance.csv'))"
   ]
  },
  {
   "cell_type": "code",
   "execution_count": null,
   "metadata": {},
   "outputs": [],
   "source": [
    "# 2. Calculate Value Over Replacement Player (VORP)\n",
    "baseline_values = config['analysis']['baseline_values']\n",
    "vorp_df = calculate_vorp(performance_df, baseline_values)\n",
    "\n",
    "# Display top players by VORP\n",
    "print(\"Top 20 players by VORP:\")\n",
    "display(vorp_df.sort_values('VORP', ascending=False)[\n",
    "    ['Player', 'FantPos', 'Team', 'Half_PPR', 'VORP', 'VORP_Per_Game', 'G']\n",
    "].head(20))"
   ]
  },
  {
   "cell_type": "code",
   "execution_count": null,
   "metadata": {},
   "outputs": [],
   "source": [
    "# 3. Analyze positional scarcity\n",
    "scarcity_results = analyze_positional_scarcity(vorp_df)"
   ]
  },
  {
   "cell_type": "code",
   "execution_count": null,
   "metadata": {},
   "outputs": [],
   "source": [
    "# Display tier analysis for each position\n",
    "positions = ['QB', 'RB', 'WR', 'TE']\n",
    "for pos in positions:\n",
    "    tier_key = f\"{pos}_tiers\"\n",
    "    diff_key = f\"{pos}_rank_diffs\"\n",
    "    \n",
    "    if tier_key in scarcity_results:\n",
    "        print(f\"\\n{pos} Tier Analysis:\")\n",
    "        display(scarcity_results[tier_key])\n",
    "    \n",
    "    if diff_key in scarcity_results:\n",
    "        print(f\"\\nTop 10 {pos} Rank Differentials:\")\n",
    "        display(scarcity_results[diff_key].head(10))\n",
    "\n",
    "# Display position value adjustments\n",
    "print(\"\\nPosition Value Adjustment Factors:\")\n",
    "display(scarcity_results['position_value_adjustments'])"
   ]
  },
  {
   "cell_type": "code",
   "execution_count": null,
   "metadata": {},
   "outputs": [],
   "source": [
    "# 4. Analyze position groups\n",
    "group_results = analyze_position_groups(vorp_df)\n",
    "\n",
    "# Display position group stats\n",
    "for key, df in group_results.items():\n",
    "    print(f\"\\n{key.replace('_', ' ').title()}:\")\n",
    "    display(df)"
   ]
  },
  {
   "cell_type": "code",
   "execution_count": null,
   "metadata": {},
   "outputs": [],
   "source": [
    "# 5. Create visualizations\n",
    "# VORP by position\n",
    "plt.figure(figsize=(12, 8))\n",
    "plot_vorp_by_position(vorp_df)\n",
    "plt.tight_layout()\n",
    "plt.savefig('../outputs/figures/vorp_by_position.png')\n",
    "plt.show()\n",
    "\n",
    "# Positional scarcity\n",
    "plt.figure(figsize=(14, 10))\n",
    "plot_positional_scarcity(scarcity_results)\n",
    "plt.tight_layout()\n",
    "plt.savefig('../outputs/figures/positional_scarcity.png')\n",
    "plt.show()\n",
    "\n",
    "# Position group comparison\n",
    "plt.figure(figsize=(12, 8))\n",
    "plot_position_group_comparison(group_results)\n",
    "plt.tight_layout()\n",
    "plt.savefig('../outputs/figures/position_group_comparison.png')\n",
    "plt.show()\n"
   ]
  },
  {
   "cell_type": "code",
   "execution_count": null,
   "metadata": {},
   "outputs": [],
   "source": [
    "# 6. Save processed data\n",
    "vorp_df.to_csv(os.path.join(config['data_paths']['processed_data'], 'vorp_analysis.csv'), index=False)\n"
   ]
  },
  {
   "cell_type": "code",
   "execution_count": null,
   "metadata": {},
   "outputs": [],
   "source": [
    "# Save scarcity analysis\n",
    "for key, df in scarcity_results.items():\n",
    "    df.to_csv(os.path.join(config['data_paths']['processed_data'], f\"{key}.csv\"), index=False)\n",
    "\n",
    "# Save position group analysis\n",
    "for key, df in group_results.items():\n",
    "    df.to_csv(os.path.join(config['data_paths']['processed_data'], f\"{key}.csv\"), index=False)\n",
    "\n",
    "print(\"Positional value analysis completed!\")"
   ]
  },
  {
   "cell_type": "code",
   "execution_count": null,
   "metadata": {},
   "outputs": [],
   "source": []
  }
 ],
 "metadata": {
  "kernelspec": {
   "display_name": "Python 3",
   "language": "python",
   "name": "python3"
  },
  "language_info": {
   "codemirror_mode": {
    "name": "ipython",
    "version": 3
   },
   "file_extension": ".py",
   "mimetype": "text/x-python",
   "name": "python",
   "nbconvert_exporter": "python",
   "pygments_lexer": "ipython3",
   "version": "3.9.0"
  }
 },
 "nbformat": 4,
 "nbformat_minor": 4
}

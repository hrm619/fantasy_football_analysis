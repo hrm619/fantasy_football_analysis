{
 "cells": [
  {
   "cell_type": "markdown",
   "metadata": {},
   "source": [
    "# 06 advanced metrics Notebook\n",
    "\n",
    "This notebook implements the analysis for the 06 advanced metrics stage of the Fantasy Football Analysis project."
   ]
  },
  {
   "cell_type": "code",
   "execution_count": 1,
   "metadata": {},
   "outputs": [],
   "source": [
    "# Import necessary libraries\n",
    "import pandas as pd\n",
    "import numpy as np\n",
    "import matplotlib.pyplot as plt\n",
    "import seaborn as sns\n",
    "import sys\n",
    "import os\n",
    "\n",
    "# Add the src directory to path\n",
    "sys.path.append('..')\n",
    "\n",
    "# Set display options\n",
    "pd.set_option('display.max_columns', 50)\n",
    "pd.set_option('display.width', 1000)"
   ]
  },
  {
   "cell_type": "code",
   "execution_count": 2,
   "metadata": {},
   "outputs": [],
   "source": [
    "# TODO: Implement 06 advanced metrics analysis"
   ]
  },
  {
   "cell_type": "code",
   "execution_count": 3,
   "metadata": {},
   "outputs": [
    {
     "ename": "ImportError",
     "evalue": "cannot import name 'plot_efficiency_outliers' from 'src.visualization.advanced_metrics_vis' (/Users/henrymarsh/Documents/fantasy_football_analysis/src/visualization/advanced_metrics_vis.py)",
     "output_type": "error",
     "traceback": [
      "\u001b[31m---------------------------------------------------------------------------\u001b[39m",
      "\u001b[31mImportError\u001b[39m                               Traceback (most recent call last)",
      "\u001b[36mCell\u001b[39m\u001b[36m \u001b[39m\u001b[32mIn[3]\u001b[39m\u001b[32m, line 8\u001b[39m\n\u001b[32m      3\u001b[39m \u001b[38;5;28;01mfrom\u001b[39;00m\u001b[38;5;250m \u001b[39m\u001b[34;01msrc\u001b[39;00m\u001b[34;01m.\u001b[39;00m\u001b[34;01mdata\u001b[39;00m\u001b[34;01m.\u001b[39;00m\u001b[34;01mdata_loader\u001b[39;00m\u001b[38;5;250m \u001b[39m\u001b[38;5;28;01mimport\u001b[39;00m load_csv_data\n\u001b[32m      4\u001b[39m \u001b[38;5;28;01mfrom\u001b[39;00m\u001b[38;5;250m \u001b[39m\u001b[34;01msrc\u001b[39;00m\u001b[34;01m.\u001b[39;00m\u001b[34;01manalysis\u001b[39;00m\u001b[34;01m.\u001b[39;00m\u001b[34;01madvanced_metrics\u001b[39;00m\u001b[38;5;250m \u001b[39m\u001b[38;5;28;01mimport\u001b[39;00m (\n\u001b[32m      5\u001b[39m     analyze_efficiency_metrics,\n\u001b[32m      6\u001b[39m     analyze_pff_grade_correlations\n\u001b[32m      7\u001b[39m )\n\u001b[32m----> \u001b[39m\u001b[32m8\u001b[39m \u001b[38;5;28;01mfrom\u001b[39;00m\u001b[38;5;250m \u001b[39m\u001b[34;01msrc\u001b[39;00m\u001b[34;01m.\u001b[39;00m\u001b[34;01mvisualization\u001b[39;00m\u001b[34;01m.\u001b[39;00m\u001b[34;01madvanced_metrics_vis\u001b[39;00m\u001b[38;5;250m \u001b[39m\u001b[38;5;28;01mimport\u001b[39;00m (\n\u001b[32m      9\u001b[39m     plot_efficiency_correlations,\n\u001b[32m     10\u001b[39m     plot_efficiency_outliers,\n\u001b[32m     11\u001b[39m     plot_pff_correlations\n\u001b[32m     12\u001b[39m )\n\u001b[32m     13\u001b[39m \u001b[38;5;28;01mfrom\u001b[39;00m\u001b[38;5;250m \u001b[39m\u001b[34;01msrc\u001b[39;00m\u001b[34;01m.\u001b[39;00m\u001b[34;01mutils\u001b[39;00m\u001b[34;01m.\u001b[39;00m\u001b[34;01mvalidation\u001b[39;00m\u001b[38;5;250m \u001b[39m\u001b[38;5;28;01mimport\u001b[39;00m validate_analysis_output\n\u001b[32m     15\u001b[39m \u001b[38;5;66;03m# Set pandas display options\u001b[39;00m\n",
      "\u001b[31mImportError\u001b[39m: cannot import name 'plot_efficiency_outliers' from 'src.visualization.advanced_metrics_vis' (/Users/henrymarsh/Documents/fantasy_football_analysis/src/visualization/advanced_metrics_vis.py)"
     ]
    }
   ],
   "source": [
    "# Import project modules\n",
    "from src.data.data_loader import load_config, load_all_data\n",
    "from src.data.data_loader import load_csv_data\n",
    "from src.analysis.advanced_metrics import (\n",
    "    analyze_efficiency_metrics,\n",
    "    analyze_pff_grade_correlations\n",
    ")\n",
    "from src.visualization.advanced_metrics_vis import (\n",
    "    plot_efficiency_correlations,\n",
    "    plot_efficiency_outliers,\n",
    "    plot_pff_correlations\n",
    ")\n",
    "from src.utils.validation import validate_analysis_output\n",
    "\n",
    "# Set pandas display options\n",
    "pd.set_option('display.max_columns', 50)\n",
    "pd.set_option('display.width', 1000)\n"
   ]
  },
  {
   "cell_type": "code",
   "execution_count": 4,
   "metadata": {},
   "outputs": [
    {
     "name": "stderr",
     "output_type": "stream",
     "text": [
      "2025-03-28 21:14:02,185 - INFO - Configuration loaded from config/config.yaml\n",
      "2025-03-28 21:14:02,186 - INFO - Loading data from data/processed/opportunity_share.csv\n",
      "2025-03-28 21:14:02,188 - ERROR - Error loading data from data/processed/opportunity_share.csv: No columns to parse from file\n"
     ]
    },
    {
     "ename": "EmptyDataError",
     "evalue": "No columns to parse from file",
     "output_type": "error",
     "traceback": [
      "\u001b[31m---------------------------------------------------------------------------\u001b[39m",
      "\u001b[31mEmptyDataError\u001b[39m                            Traceback (most recent call last)",
      "\u001b[36mCell\u001b[39m\u001b[36m \u001b[39m\u001b[32mIn[4]\u001b[39m\u001b[32m, line 3\u001b[39m\n\u001b[32m      1\u001b[39m \u001b[38;5;66;03m# 1. Load configuration and processed data\u001b[39;00m\n\u001b[32m      2\u001b[39m config = load_config()\n\u001b[32m----> \u001b[39m\u001b[32m3\u001b[39m opportunity_df = \u001b[43mload_csv_data\u001b[49m\u001b[43m(\u001b[49m\u001b[43mos\u001b[49m\u001b[43m.\u001b[49m\u001b[43mpath\u001b[49m\u001b[43m.\u001b[49m\u001b[43mjoin\u001b[49m\u001b[43m(\u001b[49m\u001b[43mconfig\u001b[49m\u001b[43m[\u001b[49m\u001b[33;43m'\u001b[39;49m\u001b[33;43mdata_paths\u001b[39;49m\u001b[33;43m'\u001b[39;49m\u001b[43m]\u001b[49m\u001b[43m[\u001b[49m\u001b[33;43m'\u001b[39;49m\u001b[33;43mprocessed_data\u001b[39;49m\u001b[33;43m'\u001b[39;49m\u001b[43m]\u001b[49m\u001b[43m,\u001b[49m\u001b[43m \u001b[49m\u001b[33;43m'\u001b[39;49m\u001b[33;43mopportunity_share.csv\u001b[39;49m\u001b[33;43m'\u001b[39;49m\u001b[43m)\u001b[49m\u001b[43m)\u001b[49m\n\u001b[32m      5\u001b[39m \u001b[38;5;66;03m# Load additional position-specific data\u001b[39;00m\n\u001b[32m      6\u001b[39m data_dict = load_all_data(config)\n",
      "\u001b[36mFile \u001b[39m\u001b[32m~/Documents/fantasy_football_analysis/src/data/data_loader.py:47\u001b[39m, in \u001b[36mload_csv_data\u001b[39m\u001b[34m(file_path, validate)\u001b[39m\n\u001b[32m     45\u001b[39m \u001b[38;5;28;01mtry\u001b[39;00m:\n\u001b[32m     46\u001b[39m     logger.info(\u001b[33mf\u001b[39m\u001b[33m\"\u001b[39m\u001b[33mLoading data from \u001b[39m\u001b[38;5;132;01m{\u001b[39;00mfile_path\u001b[38;5;132;01m}\u001b[39;00m\u001b[33m\"\u001b[39m)\n\u001b[32m---> \u001b[39m\u001b[32m47\u001b[39m     df = \u001b[43mpd\u001b[49m\u001b[43m.\u001b[49m\u001b[43mread_csv\u001b[49m\u001b[43m(\u001b[49m\u001b[43mfile_path\u001b[49m\u001b[43m)\u001b[49m\n\u001b[32m     49\u001b[39m     \u001b[38;5;66;03m# Clean team data if it's the team stats file\u001b[39;00m\n\u001b[32m     50\u001b[39m     \u001b[38;5;28;01mif\u001b[39;00m \u001b[33m\"\u001b[39m\u001b[33mTeam Stats\u001b[39m\u001b[33m\"\u001b[39m \u001b[38;5;129;01min\u001b[39;00m file_path:\n\u001b[32m     51\u001b[39m         \u001b[38;5;66;03m# Remove empty rows\u001b[39;00m\n",
      "\u001b[36mFile \u001b[39m\u001b[32m~/Documents/fantasy_football_analysis/venv/lib/python3.11/site-packages/pandas/io/parsers/readers.py:912\u001b[39m, in \u001b[36mread_csv\u001b[39m\u001b[34m(filepath_or_buffer, sep, delimiter, header, names, index_col, usecols, dtype, engine, converters, true_values, false_values, skipinitialspace, skiprows, skipfooter, nrows, na_values, keep_default_na, na_filter, verbose, skip_blank_lines, parse_dates, infer_datetime_format, keep_date_col, date_parser, date_format, dayfirst, cache_dates, iterator, chunksize, compression, thousands, decimal, lineterminator, quotechar, quoting, doublequote, escapechar, comment, encoding, encoding_errors, dialect, on_bad_lines, delim_whitespace, low_memory, memory_map, float_precision, storage_options, dtype_backend)\u001b[39m\n\u001b[32m    899\u001b[39m kwds_defaults = _refine_defaults_read(\n\u001b[32m    900\u001b[39m     dialect,\n\u001b[32m    901\u001b[39m     delimiter,\n\u001b[32m   (...)\u001b[39m\u001b[32m    908\u001b[39m     dtype_backend=dtype_backend,\n\u001b[32m    909\u001b[39m )\n\u001b[32m    910\u001b[39m kwds.update(kwds_defaults)\n\u001b[32m--> \u001b[39m\u001b[32m912\u001b[39m \u001b[38;5;28;01mreturn\u001b[39;00m \u001b[43m_read\u001b[49m\u001b[43m(\u001b[49m\u001b[43mfilepath_or_buffer\u001b[49m\u001b[43m,\u001b[49m\u001b[43m \u001b[49m\u001b[43mkwds\u001b[49m\u001b[43m)\u001b[49m\n",
      "\u001b[36mFile \u001b[39m\u001b[32m~/Documents/fantasy_football_analysis/venv/lib/python3.11/site-packages/pandas/io/parsers/readers.py:577\u001b[39m, in \u001b[36m_read\u001b[39m\u001b[34m(filepath_or_buffer, kwds)\u001b[39m\n\u001b[32m    574\u001b[39m _validate_names(kwds.get(\u001b[33m\"\u001b[39m\u001b[33mnames\u001b[39m\u001b[33m\"\u001b[39m, \u001b[38;5;28;01mNone\u001b[39;00m))\n\u001b[32m    576\u001b[39m \u001b[38;5;66;03m# Create the parser.\u001b[39;00m\n\u001b[32m--> \u001b[39m\u001b[32m577\u001b[39m parser = \u001b[43mTextFileReader\u001b[49m\u001b[43m(\u001b[49m\u001b[43mfilepath_or_buffer\u001b[49m\u001b[43m,\u001b[49m\u001b[43m \u001b[49m\u001b[43m*\u001b[49m\u001b[43m*\u001b[49m\u001b[43mkwds\u001b[49m\u001b[43m)\u001b[49m\n\u001b[32m    579\u001b[39m \u001b[38;5;28;01mif\u001b[39;00m chunksize \u001b[38;5;129;01mor\u001b[39;00m iterator:\n\u001b[32m    580\u001b[39m     \u001b[38;5;28;01mreturn\u001b[39;00m parser\n",
      "\u001b[36mFile \u001b[39m\u001b[32m~/Documents/fantasy_football_analysis/venv/lib/python3.11/site-packages/pandas/io/parsers/readers.py:1407\u001b[39m, in \u001b[36mTextFileReader.__init__\u001b[39m\u001b[34m(self, f, engine, **kwds)\u001b[39m\n\u001b[32m   1404\u001b[39m     \u001b[38;5;28mself\u001b[39m.options[\u001b[33m\"\u001b[39m\u001b[33mhas_index_names\u001b[39m\u001b[33m\"\u001b[39m] = kwds[\u001b[33m\"\u001b[39m\u001b[33mhas_index_names\u001b[39m\u001b[33m\"\u001b[39m]\n\u001b[32m   1406\u001b[39m \u001b[38;5;28mself\u001b[39m.handles: IOHandles | \u001b[38;5;28;01mNone\u001b[39;00m = \u001b[38;5;28;01mNone\u001b[39;00m\n\u001b[32m-> \u001b[39m\u001b[32m1407\u001b[39m \u001b[38;5;28mself\u001b[39m._engine = \u001b[38;5;28;43mself\u001b[39;49m\u001b[43m.\u001b[49m\u001b[43m_make_engine\u001b[49m\u001b[43m(\u001b[49m\u001b[43mf\u001b[49m\u001b[43m,\u001b[49m\u001b[43m \u001b[49m\u001b[38;5;28;43mself\u001b[39;49m\u001b[43m.\u001b[49m\u001b[43mengine\u001b[49m\u001b[43m)\u001b[49m\n",
      "\u001b[36mFile \u001b[39m\u001b[32m~/Documents/fantasy_football_analysis/venv/lib/python3.11/site-packages/pandas/io/parsers/readers.py:1679\u001b[39m, in \u001b[36mTextFileReader._make_engine\u001b[39m\u001b[34m(self, f, engine)\u001b[39m\n\u001b[32m   1676\u001b[39m     \u001b[38;5;28;01mraise\u001b[39;00m \u001b[38;5;167;01mValueError\u001b[39;00m(msg)\n\u001b[32m   1678\u001b[39m \u001b[38;5;28;01mtry\u001b[39;00m:\n\u001b[32m-> \u001b[39m\u001b[32m1679\u001b[39m     \u001b[38;5;28;01mreturn\u001b[39;00m \u001b[43mmapping\u001b[49m\u001b[43m[\u001b[49m\u001b[43mengine\u001b[49m\u001b[43m]\u001b[49m\u001b[43m(\u001b[49m\u001b[43mf\u001b[49m\u001b[43m,\u001b[49m\u001b[43m \u001b[49m\u001b[43m*\u001b[49m\u001b[43m*\u001b[49m\u001b[38;5;28;43mself\u001b[39;49m\u001b[43m.\u001b[49m\u001b[43moptions\u001b[49m\u001b[43m)\u001b[49m\n\u001b[32m   1680\u001b[39m \u001b[38;5;28;01mexcept\u001b[39;00m \u001b[38;5;167;01mException\u001b[39;00m:\n\u001b[32m   1681\u001b[39m     \u001b[38;5;28;01mif\u001b[39;00m \u001b[38;5;28mself\u001b[39m.handles \u001b[38;5;129;01mis\u001b[39;00m \u001b[38;5;129;01mnot\u001b[39;00m \u001b[38;5;28;01mNone\u001b[39;00m:\n",
      "\u001b[36mFile \u001b[39m\u001b[32m~/Documents/fantasy_football_analysis/venv/lib/python3.11/site-packages/pandas/io/parsers/c_parser_wrapper.py:93\u001b[39m, in \u001b[36mCParserWrapper.__init__\u001b[39m\u001b[34m(self, src, **kwds)\u001b[39m\n\u001b[32m     90\u001b[39m \u001b[38;5;28;01mif\u001b[39;00m kwds[\u001b[33m\"\u001b[39m\u001b[33mdtype_backend\u001b[39m\u001b[33m\"\u001b[39m] == \u001b[33m\"\u001b[39m\u001b[33mpyarrow\u001b[39m\u001b[33m\"\u001b[39m:\n\u001b[32m     91\u001b[39m     \u001b[38;5;66;03m# Fail here loudly instead of in cython after reading\u001b[39;00m\n\u001b[32m     92\u001b[39m     import_optional_dependency(\u001b[33m\"\u001b[39m\u001b[33mpyarrow\u001b[39m\u001b[33m\"\u001b[39m)\n\u001b[32m---> \u001b[39m\u001b[32m93\u001b[39m \u001b[38;5;28mself\u001b[39m._reader = \u001b[43mparsers\u001b[49m\u001b[43m.\u001b[49m\u001b[43mTextReader\u001b[49m\u001b[43m(\u001b[49m\u001b[43msrc\u001b[49m\u001b[43m,\u001b[49m\u001b[43m \u001b[49m\u001b[43m*\u001b[49m\u001b[43m*\u001b[49m\u001b[43mkwds\u001b[49m\u001b[43m)\u001b[49m\n\u001b[32m     95\u001b[39m \u001b[38;5;28mself\u001b[39m.unnamed_cols = \u001b[38;5;28mself\u001b[39m._reader.unnamed_cols\n\u001b[32m     97\u001b[39m \u001b[38;5;66;03m# error: Cannot determine type of 'names'\u001b[39;00m\n",
      "\u001b[36mFile \u001b[39m\u001b[32m~/Documents/fantasy_football_analysis/venv/lib/python3.11/site-packages/pandas/_libs/parsers.pyx:555\u001b[39m, in \u001b[36mpandas._libs.parsers.TextReader.__cinit__\u001b[39m\u001b[34m()\u001b[39m\n",
      "\u001b[31mEmptyDataError\u001b[39m: No columns to parse from file"
     ]
    }
   ],
   "source": [
    "# 1. Load configuration and processed data\n",
    "config = load_config()\n",
    "opportunity_df = load_csv_data(os.path.join(config['data_paths']['processed_data'], 'opportunity_share.csv'))\n",
    "\n",
    "# Load additional position-specific data\n",
    "data_dict = load_all_data(config)\n",
    "passing_df = data_dict['passing_data']\n",
    "receiving_df = data_dict['receiving_data']\n",
    "rushing_df = data_dict['rushing_data']\n",
    "\n",
    "# Merge advanced metrics into main dataframe\n",
    "player_df = opportunity_df.copy()"
   ]
  },
  {
   "cell_type": "code",
   "execution_count": null,
   "metadata": {},
   "outputs": [],
   "source": [
    "# 2. Analyze efficiency metrics\n",
    "efficiency_results = analyze_efficiency_metrics(player_df)\n",
    "\n",
    "# Display efficiency correlations\n",
    "if 'efficiency_correlations' in efficiency_results:\n",
    "    print(\"Efficiency Metric Correlations with Fantasy Points:\")\n",
    "    display(efficiency_results['efficiency_correlations'].sort_values(['Position', 'Correlation'], ascending=[True, False]))\n",
    "\n",
    "# Display efficiency outliers\n",
    "if 'efficiency_outliers' in efficiency_results:\n",
    "    print(\"\\nEfficiency Outliers (Regression/Improvement Candidates):\")\n",
    "    display(efficiency_results['efficiency_outliers'].sort_values(['Position', 'Efficiency_Score'], ascending=[True, False]))\n",
    "\n",
    "# Display composite efficiency scores\n",
    "if 'composite_efficiency_scores' in efficiency_results:\n",
    "    print(\"\\nTop Players by Composite Efficiency Score (by Position):\")\n",
    "    for pos in ['QB', 'RB', 'WR', 'TE']:\n",
    "        pos_df = efficiency_results['composite_efficiency_scores'][\n",
    "            efficiency_results['composite_efficiency_scores']['Position'] == pos\n",
    "        ]\n",
    "        if not pos_df.empty:\n",
    "            print(f\"\\nTop 10 {pos}s by Efficiency:\")\n",
    "            display(pos_df.sort_values('Composite_Efficiency', ascending=False)[\n",
    "                ['Player', 'Team_std', 'Half_PPR', 'Composite_Efficiency']\n",
    "            ].head(10))"
   ]
  },
  {
   "cell_type": "code",
   "execution_count": null,
   "metadata": {},
   "outputs": [],
   "source": [
    "# 3. Analyze PFF grade correlations\n",
    "pff_results = analyze_pff_grade_correlations(player_df)\n",
    "\n",
    "# Display PFF grade correlations\n",
    "if 'pff_grade_correlations' in pff_results:\n",
    "    print(\"\\nPFF Grade Correlations with Fantasy Points:\")\n",
    "    display(pff_results['pff_grade_correlations'].sort_values(['Position', 'Correlation'], ascending=[True, False]))\n",
    "\n",
    "# Display composite PFF scores\n",
    "if 'composite_pff_scores' in pff_results:\n",
    "    print(\"\\nTop Players by Composite PFF Score (by Position):\")\n",
    "    for pos in ['QB', 'RB', 'WR', 'TE']:\n",
    "        pos_df = pff_results['composite_pff_scores'][\n",
    "            pff_results['composite_pff_scores']['Position'] == pos\n",
    "        ]\n",
    "        if not pos_df.empty:\n",
    "            print(f\"\\nTop 10 {pos}s by PFF Score:\")\n",
    "            display(pos_df.sort_values('Composite_PFF_Score', ascending=False)[\n",
    "                ['Player', 'Team_std', 'Half_PPR', 'Composite_PFF_Score']\n",
    "            ].head(10))\n",
    "\n",
    "# Display composite PFF correlations\n",
    "if 'composite_pff_correlations' in pff_results:\n",
    "    print(\"\\nComposite PFF Score Correlations with Fantasy Points:\")\n",
    "    display(pff_results['composite_pff_correlations'])\n"
   ]
  },
  {
   "cell_type": "code",
   "execution_count": null,
   "metadata": {},
   "outputs": [],
   "source": [
    "# 4. Create visualizations\n",
    "# Efficiency correlations\n",
    "if 'efficiency_correlations' in efficiency_results:\n",
    "    plt.figure(figsize=(12, 8))\n",
    "    plot_efficiency_correlations(efficiency_results['efficiency_correlations'])\n",
    "    plt.tight_layout()\n",
    "    plt.savefig('../outputs/figures/efficiency_correlations.png')\n",
    "    plt.show()\n",
    "\n",
    "# Efficiency outliers\n",
    "if 'efficiency_outliers' in efficiency_results:\n",
    "    plt.figure(figsize=(14, 10))\n",
    "    plot_efficiency_outliers(efficiency_results['efficiency_outliers'])\n",
    "    plt.tight_layout()\n",
    "    plt.savefig('../outputs/figures/efficiency_outliers.png')\n",
    "    plt.show()\n",
    "\n",
    "# PFF correlations\n",
    "if 'pff_grade_correlations' in pff_results:\n",
    "    plt.figure(figsize=(12, 8))\n",
    "    plot_pff_correlations(pff_results['pff_grade_correlations'])\n",
    "    plt.tight_layout()\n",
    "    plt.savefig('../outputs/figures/pff_correlations.png')\n",
    "    plt.show()"
   ]
  },
  {
   "cell_type": "code",
   "execution_count": null,
   "metadata": {},
   "outputs": [],
   "source": [
    "# 5. Save processed data\n",
    "for key, df in efficiency_results.items():\n",
    "    df.to_csv(os.path.join(config['data_paths']['processed_data'], f\"{key}.csv\"), index=False)\n",
    "\n",
    "for key, df in pff_results.items():\n",
    "    df.to_csv(os.path.join(config['data_paths']['processed_data'], f\"{key}.csv\"), index=False)\n",
    "\n",
    "print(\"Advanced metrics analysis completed!\")"
   ]
  }
 ],
 "metadata": {
  "kernelspec": {
   "display_name": "Python 3",
   "language": "python",
   "name": "python3"
  },
  "language_info": {
   "codemirror_mode": {
    "name": "ipython",
    "version": 3
   },
   "file_extension": ".py",
   "mimetype": "text/x-python",
   "name": "python",
   "nbconvert_exporter": "python",
   "pygments_lexer": "ipython3",
   "version": "3.11.5"
  }
 },
 "nbformat": 4,
 "nbformat_minor": 4
}

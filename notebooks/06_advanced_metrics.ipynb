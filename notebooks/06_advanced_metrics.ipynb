{
 "cells": [
  {
   "cell_type": "markdown",
   "metadata": {},
   "source": [
    "# 06 advanced metrics Notebook\n",
    "\n",
    "This notebook implements the analysis for the 06 advanced metrics stage of the Fantasy Football Analysis project."
   ]
  },
  {
   "cell_type": "code",
   "execution_count": null,
   "metadata": {},
   "outputs": [],
   "source": [
    "# Import necessary libraries\n",
    "import pandas as pd\n",
    "import numpy as np\n",
    "import matplotlib.pyplot as plt\n",
    "import seaborn as sns\n",
    "import sys\n",
    "import os\n",
    "\n",
    "# Add the src directory to path\n",
    "sys.path.append('..')\n",
    "\n",
    "# Set display options\n",
    "pd.set_option('display.max_columns', 50)\n",
    "pd.set_option('display.width', 1000)"
   ]
  },
  {
   "cell_type": "code",
   "execution_count": null,
   "metadata": {},
   "outputs": [],
   "source": [
    "# TODO: Implement 06 advanced metrics analysis"
   ]
  },
  {
   "cell_type": "code",
   "execution_count": null,
   "metadata": {},
   "outputs": [],
   "source": [
    "# Import project modules\n",
    "from src.data.data_loader import load_config, load_all_data\n",
    "from src.data.data_processor import load_csv_data\n",
    "from src.analysis.advanced_metrics import (\n",
    "    analyze_efficiency_metrics,\n",
    "    analyze_pff_grade_correlations\n",
    ")\n",
    "from src.visualization.advanced_metrics_vis import (\n",
    "    plot_efficiency_correlations,\n",
    "    plot_efficiency_outliers,\n",
    "    plot_pff_correlations\n",
    ")\n",
    "from src.utils.validation import validate_analysis_output\n",
    "\n",
    "# Set pandas display options\n",
    "pd.set_option('display.max_columns', 50)\n",
    "pd.set_option('display.width', 1000)\n"
   ]
  },
  {
   "cell_type": "code",
   "execution_count": null,
   "metadata": {},
   "outputs": [],
   "source": [
    "# 1. Load configuration and processed data\n",
    "config = load_config()\n",
    "opportunity_df = load_csv_data(os.path.join(config['data_paths']['processed_data'], 'opportunity_share.csv'))\n",
    "\n",
    "# Load additional position-specific data\n",
    "data_dict = load_all_data(config)\n",
    "passing_df = data_dict['passing_data']\n",
    "receiving_df = data_dict['receiving_data']\n",
    "rushing_df = data_dict['rushing_data']\n",
    "\n",
    "# Merge advanced metrics into main dataframe\n",
    "player_df = opportunity_df.copy()"
   ]
  },
  {
   "cell_type": "code",
   "execution_count": null,
   "metadata": {},
   "outputs": [],
   "source": [
    "# 2. Analyze efficiency metrics\n",
    "efficiency_results = analyze_efficiency_metrics(player_df)\n",
    "\n",
    "# Display efficiency correlations\n",
    "if 'efficiency_correlations' in efficiency_results:\n",
    "    print(\"Efficiency Metric Correlations with Fantasy Points:\")\n",
    "    display(efficiency_results['efficiency_correlations'].sort_values(['Position', 'Correlation'], ascending=[True, False]))\n",
    "\n",
    "# Display efficiency outliers\n",
    "if 'efficiency_outliers' in efficiency_results:\n",
    "    print(\"\\nEfficiency Outliers (Regression/Improvement Candidates):\")\n",
    "    display(efficiency_results['efficiency_outliers'].sort_values(['Position', 'Efficiency_Score'], ascending=[True, False]))\n",
    "\n",
    "# Display composite efficiency scores\n",
    "if 'composite_efficiency_scores' in efficiency_results:\n",
    "    print(\"\\nTop Players by Composite Efficiency Score (by Position):\")\n",
    "    for pos in ['QB', 'RB', 'WR', 'TE']:\n",
    "        pos_df = efficiency_results['composite_efficiency_scores'][\n",
    "            efficiency_results['composite_efficiency_scores']['Position'] == pos\n",
    "        ]\n",
    "        if not pos_df.empty:\n",
    "            print(f\"\\nTop 10 {pos}s by Efficiency:\")\n",
    "            display(pos_df.sort_values('Composite_Efficiency', ascending=False)[\n",
    "                ['Player', 'Team_std', 'Half_PPR', 'Composite_Efficiency']\n",
    "            ].head(10))"
   ]
  },
  {
   "cell_type": "code",
   "execution_count": null,
   "metadata": {},
   "outputs": [],
   "source": [
    "# 3. Analyze PFF grade correlations\n",
    "pff_results = analyze_pff_grade_correlations(player_df)\n",
    "\n",
    "# Display PFF grade correlations\n",
    "if 'pff_grade_correlations' in pff_results:\n",
    "    print(\"\\nPFF Grade Correlations with Fantasy Points:\")\n",
    "    display(pff_results['pff_grade_correlations'].sort_values(['Position', 'Correlation'], ascending=[True, False]))\n",
    "\n",
    "# Display composite PFF scores\n",
    "if 'composite_pff_scores' in pff_results:\n",
    "    print(\"\\nTop Players by Composite PFF Score (by Position):\")\n",
    "    for pos in ['QB', 'RB', 'WR', 'TE']:\n",
    "        pos_df = pff_results['composite_pff_scores'][\n",
    "            pff_results['composite_pff_scores']['Position'] == pos\n",
    "        ]\n",
    "        if not pos_df.empty:\n",
    "            print(f\"\\nTop 10 {pos}s by PFF Score:\")\n",
    "            display(pos_df.sort_values('Composite_PFF_Score', ascending=False)[\n",
    "                ['Player', 'Team_std', 'Half_PPR', 'Composite_PFF_Score']\n",
    "            ].head(10))\n",
    "\n",
    "# Display composite PFF correlations\n",
    "if 'composite_pff_correlations' in pff_results:\n",
    "    print(\"\\nComposite PFF Score Correlations with Fantasy Points:\")\n",
    "    display(pff_results['composite_pff_correlations'])\n"
   ]
  },
  {
   "cell_type": "code",
   "execution_count": null,
   "metadata": {},
   "outputs": [],
   "source": [
    "# 4. Create visualizations\n",
    "# Efficiency correlations\n",
    "if 'efficiency_correlations' in efficiency_results:\n",
    "    plt.figure(figsize=(12, 8))\n",
    "    plot_efficiency_correlations(efficiency_results['efficiency_correlations'])\n",
    "    plt.tight_layout()\n",
    "    plt.savefig('../outputs/figures/efficiency_correlations.png')\n",
    "    plt.show()\n",
    "\n",
    "# Efficiency outliers\n",
    "if 'efficiency_outliers' in efficiency_results:\n",
    "    plt.figure(figsize=(14, 10))\n",
    "    plot_efficiency_outliers(efficiency_results['efficiency_outliers'])\n",
    "    plt.tight_layout()\n",
    "    plt.savefig('../outputs/figures/efficiency_outliers.png')\n",
    "    plt.show()\n",
    "\n",
    "# PFF correlations\n",
    "if 'pff_grade_correlations' in pff_results:\n",
    "    plt.figure(figsize=(12, 8))\n",
    "    plot_pff_correlations(pff_results['pff_grade_correlations'])\n",
    "    plt.tight_layout()\n",
    "    plt.savefig('../outputs/figures/pff_correlations.png')\n",
    "    plt.show()"
   ]
  },
  {
   "cell_type": "code",
   "execution_count": null,
   "metadata": {},
   "outputs": [],
   "source": [
    "# 5. Save processed data\n",
    "for key, df in efficiency_results.items():\n",
    "    df.to_csv(os.path.join(config['data_paths']['processed_data'], f\"{key}.csv\"), index=False)\n",
    "\n",
    "for key, df in pff_results.items():\n",
    "    df.to_csv(os.path.join(config['data_paths']['processed_data'], f\"{key}.csv\"), index=False)\n",
    "\n",
    "print(\"Advanced metrics analysis completed!\")"
   ]
  }
 ],
 "metadata": {
  "kernelspec": {
   "display_name": "Python 3",
   "language": "python",
   "name": "python3"
  },
  "language_info": {
   "codemirror_mode": {
    "name": "ipython",
    "version": 3
   },
   "file_extension": ".py",
   "mimetype": "text/x-python",
   "name": "python",
   "nbconvert_exporter": "python",
   "pygments_lexer": "ipython3",
   "version": "3.9.0"
  }
 },
 "nbformat": 4,
 "nbformat_minor": 4
}

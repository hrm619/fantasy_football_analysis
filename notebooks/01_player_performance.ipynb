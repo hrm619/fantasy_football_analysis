{
 "cells": [
  {
   "cell_type": "markdown",
   "metadata": {},
   "source": [
    "# 01 player performance Notebook\n",
    "\n",
    "This notebook implements the analysis for the 01 player performance stage of the Fantasy Football Analysis project."
   ]
  },
  {
   "cell_type": "code",
   "execution_count": null,
   "metadata": {},
   "outputs": [],
   "source": [
    "# Import necessary libraries\n",
    "import pandas as pd\n",
    "import numpy as np\n",
    "import matplotlib.pyplot as plt\n",
    "import seaborn as sns\n",
    "import sys\n",
    "import os\n",
    "\n",
    "# Add the src directory to path\n",
    "sys.path.append('..')\n",
    "\n",
    "# Set display options\n",
    "pd.set_option('display.max_columns', 50)\n",
    "pd.set_option('display.width', 1000)"
   ]
  },
  {
   "cell_type": "code",
   "execution_count": null,
   "metadata": {},
   "outputs": [],
   "source": [
    "# Import project modules\n",
    "from src.data.data_loader import load_config, load_all_data\n",
    "from src.data.data_processor import (\n",
    "    standardize_team_names, \n",
    "    filter_season_data, \n",
    "    create_master_player_dataset,\n",
    "    calculate_half_ppr_points,\n",
    "    save_processed_data\n",
    ")\n",
    "from src.analysis.performance import (\n",
    "    calculate_performance_metrics,\n",
    "    analyze_expectation_vs_performance\n",
    ")\n",
    "from src.visualization.performance_vis import (\n",
    "    plot_top_performers,\n",
    "    plot_position_distributions,\n",
    "    plot_expectation_vs_performance\n",
    ")\n",
    "from src.utils.validation import validate_analysis_output\n",
    "\n",
    "# Set pandas display options\n",
    "pd.set_option('display.max_columns', 50)\n",
    "pd.set_option('display.width', 1000)"
   ]
  },
  {
   "cell_type": "code",
   "execution_count": null,
   "metadata": {},
   "outputs": [],
   "source": [
    "# 1. Load configuration and data\n",
    "config = load_config()\n",
    "data_dict = load_all_data(config)"
   ]
  },
  {
   "cell_type": "code",
   "execution_count": null,
   "metadata": {},
   "outputs": [],
   "source": [
    "# 2. Process data\n",
    "data_dict = standardize_team_names(data_dict)\n",
    "data_dict = filter_season_data(data_dict, config['analysis']['season'])\n",
    "master_df = create_master_player_dataset(data_dict)\n",
    "master_df = calculate_half_ppr_points(master_df)"
   ]
  },
  {
   "cell_type": "code",
   "execution_count": null,
   "metadata": {},
   "outputs": [],
   "source": [
    "# 3. Calculate performance metrics\n",
    "performance_df = calculate_performance_metrics(master_df)\n",
    "\n",
    "# Validate performance data\n",
    "print(f\"Performance dataframe shape: {performance_df.shape}\")\n",
    "print(\"\\nTop 5 players by Half-PPR points:\")\n",
    "display(performance_df.sort_values('Half_PPR', ascending=False)[['Player', 'FantPos', 'Team', 'Half_PPR', 'Half_PPR_PPG', 'G']].head())"
   ]
  },
  {
   "cell_type": "code",
   "execution_count": null,
   "metadata": {},
   "outputs": [],
   "source": [
    "# 4. Analyze performance by position\n",
    "positions = ['QB', 'RB', 'WR', 'TE']\n",
    "for pos in positions:\n",
    "    pos_df = performance_df[performance_df['FantPos'] == pos]\n",
    "    print(f\"\\nTop 10 {pos}s by Half-PPR points:\")\n",
    "    display(pos_df.sort_values('Half_PPR', ascending=False)[['Player', 'Team', 'Half_PPR', 'Half_PPR_PPG', 'G']].head(10))"
   ]
  },
  {
   "cell_type": "code",
   "execution_count": null,
   "metadata": {},
   "outputs": [],
   "source": [
    "# 5. Analyze expectation vs. performance\n",
    "expectation_df = analyze_expectation_vs_performance(performance_df)"
   ]
  },
  {
   "cell_type": "code",
   "execution_count": null,
   "metadata": {},
   "outputs": [],
   "source": [
    "# Show players who significantly overperformed or underperformed\n",
    "print(\"\\nTop 10 Overperformers (based on ADP):\")\n",
    "display(expectation_df.sort_values('ADP_vs_Actual_Rank_Delta', ascending=False)[\n",
    "    ['Player', 'FantPos', 'Team', 'ADP', 'Overall_Rank', 'ADP_vs_Actual_Rank_Delta', 'Half_PPR']\n",
    "].head(10))\n",
    "\n",
    "print(\"\\nTop 10 Underperformers (based on ADP):\")\n",
    "display(expectation_df.sort_values('ADP_vs_Actual_Rank_Delta')[\n",
    "    ['Player', 'FantPos', 'Team', 'ADP', 'Overall_Rank', 'ADP_vs_Actual_Rank_Delta', 'Half_PPR']\n",
    "].head(10))"
   ]
  },
  {
   "cell_type": "code",
   "execution_count": null,
   "metadata": {},
   "outputs": [],
   "source": [
    "# 6. Create visualizations\n",
    "# Top performers by position\n",
    "plt.figure(figsize=(12, 8))\n",
    "plot_top_performers(performance_df, n=10)\n",
    "plt.tight_layout()\n",
    "plt.savefig('../outputs/figures/top_performers_by_position.png')\n",
    "plt.show()\n",
    "\n",
    "# Position point distributions\n",
    "plt.figure(figsize=(12, 8))\n",
    "plot_position_distributions(performance_df)\n",
    "plt.tight_layout()\n",
    "plt.savefig('../outputs/figures/position_point_distributions.png')\n",
    "plt.show()\n",
    "\n",
    "# Expectation vs. performance\n",
    "plt.figure(figsize=(12, 10))\n",
    "plot_expectation_vs_performance(expectation_df)\n",
    "plt.tight_layout()\n",
    "plt.savefig('../outputs/figures/expectation_vs_performance.png')\n",
    "plt.show()"
   ]
  },
  {
   "cell_type": "code",
   "execution_count": null,
   "metadata": {},
   "outputs": [],
   "source": [
    "# 7. Save processed data\n",
    "save_processed_data(\n",
    "    performance_df, \n",
    "    'player_performance.csv', \n",
    "    config['data_paths']['processed_data']\n",
    ")\n",
    "save_processed_data(\n",
    "    expectation_df, \n",
    "    'player_expectation_vs_performance.csv', \n",
    "    config['data_paths']['processed_data']\n",
    ")\n",
    "\n",
    "print(\"Player performance analysis completed!\")"
   ]
  },
  {
   "cell_type": "code",
   "execution_count": null,
   "metadata": {},
   "outputs": [],
   "source": []
  },
  {
   "cell_type": "code",
   "execution_count": null,
   "metadata": {},
   "outputs": [],
   "source": []
  }
 ],
 "metadata": {
  "kernelspec": {
   "display_name": "Python 3",
   "language": "python",
   "name": "python3"
  },
  "language_info": {
   "codemirror_mode": {
    "name": "ipython",
    "version": 3
   },
   "file_extension": ".py",
   "mimetype": "text/x-python",
   "name": "python",
   "nbconvert_exporter": "python",
   "pygments_lexer": "ipython3",
   "version": "3.9.0"
  }
 },
 "nbformat": 4,
 "nbformat_minor": 4
}
